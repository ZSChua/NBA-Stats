{
 "cells": [
  {
   "cell_type": "code",
   "execution_count": 1,
   "metadata": {},
   "outputs": [],
   "source": [
    "import pandas as pd\n",
    "import numpy as np\n",
    "import seaborn as sns \n",
    "import matplotlib.pyplot as plt\n",
    "import math"
   ]
  },
  {
   "cell_type": "code",
   "execution_count": 65,
   "metadata": {},
   "outputs": [],
   "source": [
    "draft = {}\n",
    "for i in range (6,22):\n",
    "    if (i<10):\n",
    "        year = (\"200\"+str(i))\n",
    "    else:\n",
    "        year = (\"20\"+str(i))\n",
    "\n",
    "    draft[i]=(pd.read_csv(year+'_draft.csv', header=1))\n",
    "    draft[i]['Year'] = int(year)"
   ]
  },
  {
   "cell_type": "code",
   "execution_count": 66,
   "metadata": {},
   "outputs": [],
   "source": [
    "draft_df = pd.concat(draft)\n",
    "draft_df.to_csv('D:/3A\\MSCI 446 Intro to ML\\Proj\\data.txt')"
   ]
  },
  {
   "cell_type": "markdown",
   "metadata": {},
   "source": [
    "# Getting Data\n"
   ]
  },
  {
   "cell_type": "code",
   "execution_count": 57,
   "metadata": {},
   "outputs": [],
   "source": [
    "agility_stats = pd.read_csv('agility_stats.csv')\n",
    "anthro_stats = pd.read_csv('anthro_stats.csv')\n",
    "eff_stats = pd.read_csv('eff_stats.csv')\n",
    "game_stats = pd.read_csv('game_stats.csv')"
   ]
  },
  {
   "cell_type": "code",
   "execution_count": 58,
   "metadata": {},
   "outputs": [],
   "source": [
    "data = [agility_stats, anthro_stats, eff_stats, game_stats]\n",
    "names = ['agility_stats', 'anthro_stats', 'eff_stats', 'game_stats']"
   ]
  },
  {
   "cell_type": "markdown",
   "metadata": {},
   "source": [
    "## Initial Exploration\n"
   ]
  },
  {
   "cell_type": "code",
   "execution_count": null,
   "metadata": {},
   "outputs": [],
   "source": [
    "for i in range(0,4):\n",
    "  print (names[i])\n",
    "  print (data[i].head())\n",
    "  print ('='*100)\n",
    "  print ('')"
   ]
  },
  {
   "cell_type": "code",
   "execution_count": 59,
   "metadata": {},
   "outputs": [
    {
     "name": "stdout",
     "output_type": "stream",
     "text": [
      "agility_stats\n",
      "Index(['PLAYER', 'POS', 'LANE_AGILITY_TIME', 'SHUTTLE_RUN',\n",
      "       'THREE_QUARTER_SPRINT', 'STANDING_VERTICAL_LEAP', 'MAX_VERTICAL_LEAP',\n",
      "       'MAX_BENCH_PRESS', 'YEAR'],\n",
      "      dtype='object')\n",
      "====================================================================================================\n",
      "\n",
      "anthro_stats\n",
      "Index(['PLAYER', 'POS', 'BODY_FAT', 'HAND_LENGTH_INCHES', 'HAND_WIDTH_INCHES',\n",
      "       'HEIGHT_WO_SHOES', 'HEIGHT_W_SHOES', 'STANDING_REACH', 'WEIGHT',\n",
      "       'WINGSPAN', 'YEAR'],\n",
      "      dtype='object')\n",
      "====================================================================================================\n",
      "\n",
      "eff_stats\n",
      "Index(['#', 'PLAYER', 'GP', 'MIN', 'PTS', 'FGM', 'FGA', 'FG%', '3PM', '3PA',\n",
      "       '3P%', 'FTM', 'FTA', 'FT%', 'OREB', 'DREB', 'REB', 'AST', 'STL', 'BLK',\n",
      "       'TOV', 'EFF', 'YEAR'],\n",
      "      dtype='object')\n",
      "====================================================================================================\n",
      "\n",
      "game_stats\n",
      "Index(['Column1', '_1', 'Rk', 'Pk', 'Tm', 'PLAYER', 'College', 'Yrs', 'G',\n",
      "       'MP', 'PTS', 'TRB', 'AST', 'FG%', '3P%', 'FT%', 'MP.1', 'PTS.1',\n",
      "       'TRB.1', 'AST.1', 'WS', 'WS/48', 'BPM', 'VORP', 'Year'],\n",
      "      dtype='object')\n",
      "====================================================================================================\n",
      "\n"
     ]
    }
   ],
   "source": [
    "for i in range(0,4):\n",
    "  print (names[i])\n",
    "  print (data[i].columns)\n",
    "  print ('='*100)\n",
    "  print ('')"
   ]
  },
  {
   "cell_type": "markdown",
   "metadata": {},
   "source": [
    "## Removing unecessary columns\n",
    "\n",
    "As seen from the vast number of columns above, lets remove uncessary columns that provide no value for example:\n",
    "\n",
    "- Column1 - all the number 6\n",
    "- _1 - index of players that does not provide value\n",
    "- Tm - College team\n",
    "- MP - Total minutes played (we will use MP/ game)"
   ]
  },
  {
   "cell_type": "code",
   "execution_count": 43,
   "metadata": {},
   "outputs": [],
   "source": [
    "game_stats = game_stats.drop(columns=['Column1', '_1', 'Rk', 'Pk', 'Tm', 'College', 'Yrs', 'G', 'MP', 'PTS', 'TRB', 'AST'], axis = 1)\n",
    "eff_stats = eff_stats[['#','PLAYER','EFF']]\n",
    "agility_stats = agility_stats.drop(columns=['POS', 'YEAR'], axis = 1)\n",
    "anthro_stats = anthro_stats.drop(columns=['POS','YEAR'], axis = 1)"
   ]
  },
  {
   "cell_type": "markdown",
   "metadata": {},
   "source": [
    "## Removing duplicate players\n"
   ]
  },
  {
   "cell_type": "code",
   "execution_count": 44,
   "metadata": {},
   "outputs": [],
   "source": [
    "#reset data list with changes\n",
    "data = [agility_stats, anthro_stats, eff_stats, game_stats]"
   ]
  },
  {
   "cell_type": "markdown",
   "metadata": {},
   "source": [
    "Let's take a look at the current available columns and how much data they hold"
   ]
  },
  {
   "cell_type": "code",
   "execution_count": 60,
   "metadata": {},
   "outputs": [
    {
     "name": "stdout",
     "output_type": "stream",
     "text": [
      "agility_stats\n",
      "<class 'pandas.core.frame.DataFrame'>\n",
      "RangeIndex: 1004 entries, 0 to 1003\n",
      "Data columns (total 9 columns):\n",
      " #   Column                  Non-Null Count  Dtype \n",
      "---  ------                  --------------  ----- \n",
      " 0   PLAYER                  1004 non-null   object\n",
      " 1   POS                     1000 non-null   object\n",
      " 2   LANE_AGILITY_TIME       1004 non-null   object\n",
      " 3   SHUTTLE_RUN             1004 non-null   object\n",
      " 4   THREE_QUARTER_SPRINT    1004 non-null   object\n",
      " 5   STANDING_VERTICAL_LEAP  1004 non-null   object\n",
      " 6   MAX_VERTICAL_LEAP       1004 non-null   object\n",
      " 7   MAX_BENCH_PRESS         1004 non-null   object\n",
      " 8   YEAR                    1004 non-null   int64 \n",
      "dtypes: int64(1), object(8)\n",
      "memory usage: 70.7+ KB\n",
      "None\n",
      "====================================================================================================\n",
      "\n",
      "anthro_stats\n",
      "<class 'pandas.core.frame.DataFrame'>\n",
      "RangeIndex: 1004 entries, 0 to 1003\n",
      "Data columns (total 11 columns):\n",
      " #   Column              Non-Null Count  Dtype \n",
      "---  ------              --------------  ----- \n",
      " 0   PLAYER              1004 non-null   object\n",
      " 1   POS                 1000 non-null   object\n",
      " 2   BODY_FAT            1004 non-null   object\n",
      " 3   HAND_LENGTH_INCHES  1004 non-null   object\n",
      " 4   HAND_WIDTH_INCHES   1004 non-null   object\n",
      " 5   HEIGHT_WO_SHOES     985 non-null    object\n",
      " 6   HEIGHT_W_SHOES      985 non-null    object\n",
      " 7   STANDING_REACH      984 non-null    object\n",
      " 8   WEIGHT              1004 non-null   object\n",
      " 9   WINGSPAN            986 non-null    object\n",
      " 10  YEAR                1004 non-null   int64 \n",
      "dtypes: int64(1), object(10)\n",
      "memory usage: 86.4+ KB\n",
      "None\n",
      "====================================================================================================\n",
      "\n",
      "eff_stats\n",
      "<class 'pandas.core.frame.DataFrame'>\n",
      "RangeIndex: 754 entries, 0 to 753\n",
      "Data columns (total 23 columns):\n",
      " #   Column  Non-Null Count  Dtype  \n",
      "---  ------  --------------  -----  \n",
      " 0   #       754 non-null    int64  \n",
      " 1   PLAYER  754 non-null    object \n",
      " 2   GP      754 non-null    int64  \n",
      " 3   MIN     754 non-null    float64\n",
      " 4   PTS     754 non-null    float64\n",
      " 5   FGM     754 non-null    float64\n",
      " 6   FGA     754 non-null    float64\n",
      " 7   FG%     754 non-null    float64\n",
      " 8   3PM     754 non-null    float64\n",
      " 9   3PA     754 non-null    float64\n",
      " 10  3P%     754 non-null    float64\n",
      " 11  FTM     754 non-null    float64\n",
      " 12  FTA     754 non-null    float64\n",
      " 13  FT%     754 non-null    float64\n",
      " 14  OREB    754 non-null    float64\n",
      " 15  DREB    754 non-null    float64\n",
      " 16  REB     754 non-null    float64\n",
      " 17  AST     754 non-null    float64\n",
      " 18  STL     754 non-null    float64\n",
      " 19  BLK     754 non-null    float64\n",
      " 20  TOV     754 non-null    float64\n",
      " 21  EFF     754 non-null    float64\n",
      " 22  YEAR    754 non-null    int64  \n",
      "dtypes: float64(19), int64(3), object(1)\n",
      "memory usage: 135.6+ KB\n",
      "None\n",
      "====================================================================================================\n",
      "\n",
      "game_stats\n",
      "<class 'pandas.core.frame.DataFrame'>\n",
      "RangeIndex: 960 entries, 0 to 959\n",
      "Data columns (total 25 columns):\n",
      " #   Column   Non-Null Count  Dtype  \n",
      "---  ------   --------------  -----  \n",
      " 0   Column1  960 non-null    int64  \n",
      " 1   _1       960 non-null    int64  \n",
      " 2   Rk       960 non-null    int64  \n",
      " 3   Pk       960 non-null    int64  \n",
      " 4   Tm       960 non-null    object \n",
      " 5   PLAYER   960 non-null    object \n",
      " 6   College  774 non-null    object \n",
      " 7   Yrs      847 non-null    float64\n",
      " 8   G        847 non-null    float64\n",
      " 9   MP       847 non-null    float64\n",
      " 10  PTS      847 non-null    float64\n",
      " 11  TRB      847 non-null    float64\n",
      " 12  AST      847 non-null    float64\n",
      " 13  FG%      843 non-null    float64\n",
      " 14  3P%      795 non-null    float64\n",
      " 15  FT%      827 non-null    float64\n",
      " 16  MP.1     847 non-null    float64\n",
      " 17  PTS.1    847 non-null    float64\n",
      " 18  TRB.1    847 non-null    float64\n",
      " 19  AST.1    847 non-null    float64\n",
      " 20  WS       847 non-null    float64\n",
      " 21  WS/48    846 non-null    float64\n",
      " 22  BPM      846 non-null    float64\n",
      " 23  VORP     847 non-null    float64\n",
      " 24  Year     960 non-null    int64  \n",
      "dtypes: float64(17), int64(5), object(3)\n",
      "memory usage: 187.6+ KB\n",
      "None\n",
      "====================================================================================================\n",
      "\n"
     ]
    }
   ],
   "source": [
    "for i in range(0,4):\n",
    "  print (names[i])\n",
    "  print (data[i].info())\n",
    "  print ('='*100)\n",
    "  print ('')"
   ]
  },
  {
   "cell_type": "code",
   "execution_count": null,
   "metadata": {},
   "outputs": [],
   "source": []
  },
  {
   "cell_type": "code",
   "execution_count": 66,
   "metadata": {},
   "outputs": [],
   "source": [
    "#merge all datasets on name columns\n",
    "#left joins are made as players without efficiency cannot be used as training data\n",
    "df_all = eff_stats.merge(game_stats, how='left', on='PLAYER').merge(agility_stats, how='left', on='PLAYER').merge(anthro_stats, how='left', on='PLAYER').merge(agility_stats, how='left', on='PLAYER')"
   ]
  },
  {
   "cell_type": "code",
   "execution_count": 67,
   "metadata": {},
   "outputs": [
    {
     "data": {
      "text/plain": [
       "(895, 35)"
      ]
     },
     "execution_count": 67,
     "metadata": {},
     "output_type": "execute_result"
    }
   ],
   "source": [
    "df_all.shape"
   ]
  },
  {
   "cell_type": "code",
   "execution_count": 71,
   "metadata": {},
   "outputs": [
    {
     "data": {
      "text/plain": [
       "754"
      ]
     },
     "execution_count": 71,
     "metadata": {},
     "output_type": "execute_result"
    }
   ],
   "source": [
    "df_all['PLAYER'].unique().size"
   ]
  },
  {
   "cell_type": "markdown",
   "metadata": {},
   "source": [
    "Looks like we have a few duplicate players, lets save the first appearance of each player so that the data is not over represented and the model is not skewed."
   ]
  },
  {
   "cell_type": "code",
   "execution_count": 76,
   "metadata": {},
   "outputs": [],
   "source": [
    "df_all = df_all.drop_duplicates('PLAYER')\n",
    "df_all = df_all.drop(columns=['#'])"
   ]
  },
  {
   "cell_type": "code",
   "execution_count": 77,
   "metadata": {},
   "outputs": [
    {
     "data": {
      "text/html": [
       "<div>\n",
       "<style scoped>\n",
       "    .dataframe tbody tr th:only-of-type {\n",
       "        vertical-align: middle;\n",
       "    }\n",
       "\n",
       "    .dataframe tbody tr th {\n",
       "        vertical-align: top;\n",
       "    }\n",
       "\n",
       "    .dataframe thead th {\n",
       "        text-align: right;\n",
       "    }\n",
       "</style>\n",
       "<table border=\"1\" class=\"dataframe\">\n",
       "  <thead>\n",
       "    <tr style=\"text-align: right;\">\n",
       "      <th></th>\n",
       "      <th>EFF</th>\n",
       "      <th>FG%</th>\n",
       "      <th>3P%</th>\n",
       "      <th>FT%</th>\n",
       "      <th>MP.1</th>\n",
       "      <th>PTS.1</th>\n",
       "      <th>TRB.1</th>\n",
       "      <th>AST.1</th>\n",
       "      <th>WS</th>\n",
       "      <th>WS/48</th>\n",
       "      <th>BPM</th>\n",
       "      <th>VORP</th>\n",
       "      <th>Year</th>\n",
       "    </tr>\n",
       "  </thead>\n",
       "  <tbody>\n",
       "    <tr>\n",
       "      <th>count</th>\n",
       "      <td>754.000000</td>\n",
       "      <td>524.000000</td>\n",
       "      <td>508.000000</td>\n",
       "      <td>524.000000</td>\n",
       "      <td>524.000000</td>\n",
       "      <td>524.000000</td>\n",
       "      <td>524.000000</td>\n",
       "      <td>524.000000</td>\n",
       "      <td>524.000000</td>\n",
       "      <td>524.000000</td>\n",
       "      <td>524.00000</td>\n",
       "      <td>524.000000</td>\n",
       "      <td>524.000000</td>\n",
       "    </tr>\n",
       "    <tr>\n",
       "      <th>mean</th>\n",
       "      <td>7.199867</td>\n",
       "      <td>0.448756</td>\n",
       "      <td>0.304380</td>\n",
       "      <td>0.736817</td>\n",
       "      <td>20.443130</td>\n",
       "      <td>8.591412</td>\n",
       "      <td>3.619656</td>\n",
       "      <td>1.845420</td>\n",
       "      <td>15.496565</td>\n",
       "      <td>0.075303</td>\n",
       "      <td>-1.51355</td>\n",
       "      <td>3.834733</td>\n",
       "      <td>2013.578244</td>\n",
       "    </tr>\n",
       "    <tr>\n",
       "      <th>std</th>\n",
       "      <td>4.048345</td>\n",
       "      <td>0.062112</td>\n",
       "      <td>0.092633</td>\n",
       "      <td>0.092023</td>\n",
       "      <td>7.599485</td>\n",
       "      <td>5.010633</td>\n",
       "      <td>2.012432</td>\n",
       "      <td>1.564496</td>\n",
       "      <td>22.132155</td>\n",
       "      <td>0.053959</td>\n",
       "      <td>2.43050</td>\n",
       "      <td>9.108745</td>\n",
       "      <td>4.840040</td>\n",
       "    </tr>\n",
       "    <tr>\n",
       "      <th>min</th>\n",
       "      <td>0.200000</td>\n",
       "      <td>0.267000</td>\n",
       "      <td>0.000000</td>\n",
       "      <td>0.390000</td>\n",
       "      <td>3.200000</td>\n",
       "      <td>0.900000</td>\n",
       "      <td>0.300000</td>\n",
       "      <td>0.100000</td>\n",
       "      <td>-1.800000</td>\n",
       "      <td>-0.203000</td>\n",
       "      <td>-10.30000</td>\n",
       "      <td>-3.900000</td>\n",
       "      <td>2006.000000</td>\n",
       "    </tr>\n",
       "    <tr>\n",
       "      <th>25%</th>\n",
       "      <td>4.225000</td>\n",
       "      <td>0.411000</td>\n",
       "      <td>0.286000</td>\n",
       "      <td>0.682000</td>\n",
       "      <td>14.600000</td>\n",
       "      <td>4.800000</td>\n",
       "      <td>2.200000</td>\n",
       "      <td>0.800000</td>\n",
       "      <td>1.200000</td>\n",
       "      <td>0.041750</td>\n",
       "      <td>-3.10000</td>\n",
       "      <td>-0.400000</td>\n",
       "      <td>2009.000000</td>\n",
       "    </tr>\n",
       "    <tr>\n",
       "      <th>50%</th>\n",
       "      <td>6.300000</td>\n",
       "      <td>0.440000</td>\n",
       "      <td>0.330000</td>\n",
       "      <td>0.750000</td>\n",
       "      <td>20.300000</td>\n",
       "      <td>7.400000</td>\n",
       "      <td>3.150000</td>\n",
       "      <td>1.300000</td>\n",
       "      <td>6.350000</td>\n",
       "      <td>0.075500</td>\n",
       "      <td>-1.60000</td>\n",
       "      <td>0.300000</td>\n",
       "      <td>2013.000000</td>\n",
       "    </tr>\n",
       "    <tr>\n",
       "      <th>75%</th>\n",
       "      <td>9.400000</td>\n",
       "      <td>0.475250</td>\n",
       "      <td>0.360000</td>\n",
       "      <td>0.805000</td>\n",
       "      <td>26.725000</td>\n",
       "      <td>11.325000</td>\n",
       "      <td>4.500000</td>\n",
       "      <td>2.400000</td>\n",
       "      <td>21.925000</td>\n",
       "      <td>0.108250</td>\n",
       "      <td>0.00000</td>\n",
       "      <td>4.400000</td>\n",
       "      <td>2018.000000</td>\n",
       "    </tr>\n",
       "    <tr>\n",
       "      <th>max</th>\n",
       "      <td>25.600000</td>\n",
       "      <td>0.720000</td>\n",
       "      <td>0.667000</td>\n",
       "      <td>0.915000</td>\n",
       "      <td>36.700000</td>\n",
       "      <td>27.100000</td>\n",
       "      <td>13.300000</td>\n",
       "      <td>9.100000</td>\n",
       "      <td>152.200000</td>\n",
       "      <td>0.227000</td>\n",
       "      <td>6.80000</td>\n",
       "      <td>74.800000</td>\n",
       "      <td>2021.000000</td>\n",
       "    </tr>\n",
       "  </tbody>\n",
       "</table>\n",
       "</div>"
      ],
      "text/plain": [
       "              EFF         FG%         3P%         FT%        MP.1       PTS.1  \\\n",
       "count  754.000000  524.000000  508.000000  524.000000  524.000000  524.000000   \n",
       "mean     7.199867    0.448756    0.304380    0.736817   20.443130    8.591412   \n",
       "std      4.048345    0.062112    0.092633    0.092023    7.599485    5.010633   \n",
       "min      0.200000    0.267000    0.000000    0.390000    3.200000    0.900000   \n",
       "25%      4.225000    0.411000    0.286000    0.682000   14.600000    4.800000   \n",
       "50%      6.300000    0.440000    0.330000    0.750000   20.300000    7.400000   \n",
       "75%      9.400000    0.475250    0.360000    0.805000   26.725000   11.325000   \n",
       "max     25.600000    0.720000    0.667000    0.915000   36.700000   27.100000   \n",
       "\n",
       "            TRB.1       AST.1          WS       WS/48        BPM        VORP  \\\n",
       "count  524.000000  524.000000  524.000000  524.000000  524.00000  524.000000   \n",
       "mean     3.619656    1.845420   15.496565    0.075303   -1.51355    3.834733   \n",
       "std      2.012432    1.564496   22.132155    0.053959    2.43050    9.108745   \n",
       "min      0.300000    0.100000   -1.800000   -0.203000  -10.30000   -3.900000   \n",
       "25%      2.200000    0.800000    1.200000    0.041750   -3.10000   -0.400000   \n",
       "50%      3.150000    1.300000    6.350000    0.075500   -1.60000    0.300000   \n",
       "75%      4.500000    2.400000   21.925000    0.108250    0.00000    4.400000   \n",
       "max     13.300000    9.100000  152.200000    0.227000    6.80000   74.800000   \n",
       "\n",
       "              Year  \n",
       "count   524.000000  \n",
       "mean   2013.578244  \n",
       "std       4.840040  \n",
       "min    2006.000000  \n",
       "25%    2009.000000  \n",
       "50%    2013.000000  \n",
       "75%    2018.000000  \n",
       "max    2021.000000  "
      ]
     },
     "execution_count": 77,
     "metadata": {},
     "output_type": "execute_result"
    }
   ],
   "source": [
    "df_all.describe()"
   ]
  },
  {
   "cell_type": "markdown",
   "metadata": {},
   "source": [
    "## Interesting things to note:\n",
    "\n",
    "The following are medians the median statistics. Keep in mind these are higher than the average college player as all of thesee players were selected to play in the NBA\n",
    "\n",
    "EFF\tFG%\t3P%\tFT%\tMP.1\tPTS.1\tTRB.1\tAST.1\tWS\tWS/48\tBPM\tVORP\tYear\n",
    "6.300000\t0.440000\t0.330000\t0.750000\t20.300000\t7.400000\t3.150000\t1.300000\t6.350000\t0.075500\t-1.60000\t0.300000"
   ]
  },
  {
   "cell_type": "code",
   "execution_count": 78,
   "metadata": {},
   "outputs": [],
   "source": [
    "df_all.to_csv('D:/3A\\MSCI 446 Intro to ML\\Proj\\data_all.txt')"
   ]
  },
  {
   "cell_type": "code",
   "execution_count": 2,
   "metadata": {},
   "outputs": [],
   "source": [
    "#For future use so as not to run all cells\n",
    "df = pd.read_csv('data_all.csv')"
   ]
  },
  {
   "cell_type": "markdown",
   "metadata": {},
   "source": [
    "## Data Types\n",
    "\n",
    "Lets make sure all data types are as they should be: numeric vs categorical"
   ]
  },
  {
   "cell_type": "code",
   "execution_count": null,
   "metadata": {},
   "outputs": [],
   "source": [
    "df.info()"
   ]
  },
  {
   "cell_type": "markdown",
   "metadata": {},
   "source": [
    "Looks like all data that is not from game_stats are of type object. \n",
    "All of these need to be changed to numerical\n",
    "\n",
    " 0   Column1                   754 non-null    int64  \n",
    " 1   PLAYER                    754 non-null    object \n",
    " 2   EFF                       754 non-null    float64\n",
    " 3   FG%                       524 non-null    float64\n",
    " 4   3P%                       508 non-null    float64\n",
    " 5   FT%                       524 non-null    float64\n",
    " 6   MP.1                      524 non-null    float64\n",
    " 7   PTS.1                     524 non-null    float64\n",
    " 8   TRB.1                     524 non-null    float64\n",
    " 9   AST.1                     524 non-null    float64\n",
    " 10  WS                        524 non-null    float64\n",
    " 11  WS/48                     524 non-null    float64\n",
    " 12  BPM                       524 non-null    float64\n",
    " 13  VORP                      524 non-null    float64\n",
    " 14  Year                      524 non-null    float64\n",
    " 15  LANE_AGILITY_TIME_x       450 non-null    object \n",
    " 16  SHUTTLE_RUN_x             450 non-null    object \n",
    " 17  THREE_QUARTER_SPRINT_x    450 non-null    object \n",
    " 18  STANDING_VERTICAL_LEAP_x  450 non-null    object \n",
    " 19  MAX_VERTICAL_LEAP_x       450 non-null    object \n",
    " 20  MAX_BENCH_PRESS_x         450 non-null    object \n",
    " 21  BODY_FAT                  450 non-null    object \n",
    " 22  HAND_LENGTH_INCHES        450 non-null    object \n",
    " 23  HAND_WIDTH_INCHES         450 non-null    object \n",
    " 24  HEIGHT_WO_SHOES           437 non-null    object \n",
    " 25  HEIGHT_W_SHOES            437 non-null    object \n",
    " 26  STANDING_REACH            437 non-null    object \n",
    " 27  WEIGHT                    450 non-null    object \n",
    " 28  WINGSPAN                  438 non-null    object \n",
    " 29  LANE_AGILITY_TIME_y       450 non-null    object \n",
    " 30  SHUTTLE_RUN_y             450 non-null    object \n",
    " 31  THREE_QUARTER_SPRINT_y    450 non-null    object \n",
    " 32  STANDING_VERTICAL_LEAP_y  450 non-null    object \n",
    " 33  MAX_VERTICAL_LEAP_y       450 non-null    object \n",
    " 34  MAX_BENCH_PRESS_y         450 non-null    object "
   ]
  },
  {
   "cell_type": "markdown",
   "metadata": {},
   "source": [
    "## Manual Data Cleaning\n",
    "Manually retrieved and filled in missing data for player who are missing college stats but not anthro stats as anthro is more difficult to find\n",
    "Many players played in the NBA and NCAA but were not drafted immediately and as a result did not appear in our original data search. These players were manually tracked down and updated."
   ]
  },
  {
   "cell_type": "markdown",
   "metadata": {},
   "source": [
    "## Regex\n",
    "\n",
    "Looking at length measurements, all the attributes are in feet and inches for example: 7'2.75'' or 6'10.25''   \n",
    "Unfortunately, the decimals are inconsistent so we will need to parse out the values and convert them into cm following the format of   \n",
    "Value ' value ''    \n",
    "where the first value is multiplied by 30 and the second value is multiplied by 2.54 (cm/inch)"
   ]
  },
  {
   "cell_type": "code",
   "execution_count": 26,
   "metadata": {},
   "outputs": [
    {
     "data": {
      "text/plain": [
       "float"
      ]
     },
     "execution_count": 26,
     "metadata": {},
     "output_type": "execute_result"
    }
   ],
   "source": [
    "measurement = \"7'2.75''\"\n",
    "splt = measurement.split(\"'\")\n",
    "cm = float(splt[0])*30+float(splt[1])*2.54\n",
    "type(cm)"
   ]
  },
  {
   "cell_type": "code",
   "execution_count": 54,
   "metadata": {},
   "outputs": [],
   "source": [
    "def to_cm(measurement):\n",
    "    #Check to see if it is NaN\n",
    "    if measurement == measurement: \n",
    "        splt = str(measurement).split(\"'\")\n",
    "        cm = float(splt[0])*30+float(splt[1])*2.54\n",
    "        return cm\n",
    "    else:\n",
    "        pass"
   ]
  },
  {
   "cell_type": "code",
   "execution_count": 47,
   "metadata": {},
   "outputs": [
    {
     "name": "stdout",
     "output_type": "stream",
     "text": [
      "1 <class 'float'>\n",
      "<class 'str'>\n"
     ]
    }
   ],
   "source": [
    "df2 = df[['HEIGHT_WO_SHOES','PLAYER']]\n",
    "print(1,type(df2['HEIGHT_WO_SHOES'][0]))\n",
    "print(type(df2['HEIGHT_WO_SHOES'][3]))"
   ]
  },
  {
   "cell_type": "code",
   "execution_count": 56,
   "metadata": {},
   "outputs": [
    {
     "name": "stderr",
     "output_type": "stream",
     "text": [
      "<ipython-input-56-e313f74c4c76>:1: SettingWithCopyWarning: \n",
      "A value is trying to be set on a copy of a slice from a DataFrame.\n",
      "Try using .loc[row_indexer,col_indexer] = value instead\n",
      "\n",
      "See the caveats in the documentation: https://pandas.pydata.org/pandas-docs/stable/user_guide/indexing.html#returning-a-view-versus-a-copy\n",
      "  df2['test'] = df2['HEIGHT_WO_SHOES'].apply(to_cm)\n"
     ]
    },
    {
     "data": {
      "text/html": [
       "<div>\n",
       "<style scoped>\n",
       "    .dataframe tbody tr th:only-of-type {\n",
       "        vertical-align: middle;\n",
       "    }\n",
       "\n",
       "    .dataframe tbody tr th {\n",
       "        vertical-align: top;\n",
       "    }\n",
       "\n",
       "    .dataframe thead th {\n",
       "        text-align: right;\n",
       "    }\n",
       "</style>\n",
       "<table border=\"1\" class=\"dataframe\">\n",
       "  <thead>\n",
       "    <tr style=\"text-align: right;\">\n",
       "      <th></th>\n",
       "      <th>HEIGHT_WO_SHOES</th>\n",
       "      <th>PLAYER</th>\n",
       "      <th>test</th>\n",
       "    </tr>\n",
       "  </thead>\n",
       "  <tbody>\n",
       "    <tr>\n",
       "      <th>0</th>\n",
       "      <td>NaN</td>\n",
       "      <td>Cade Cunningham</td>\n",
       "      <td>NaN</td>\n",
       "    </tr>\n",
       "    <tr>\n",
       "      <th>1</th>\n",
       "      <td>NaN</td>\n",
       "      <td>Franz Wagner</td>\n",
       "      <td>NaN</td>\n",
       "    </tr>\n",
       "    <tr>\n",
       "      <th>2</th>\n",
       "      <td>NaN</td>\n",
       "      <td>Jalen Green</td>\n",
       "      <td>NaN</td>\n",
       "    </tr>\n",
       "    <tr>\n",
       "      <th>3</th>\n",
       "      <td>6'7.0''</td>\n",
       "      <td>Scottie Barnes</td>\n",
       "      <td>197.78</td>\n",
       "    </tr>\n",
       "    <tr>\n",
       "      <th>4</th>\n",
       "      <td>NaN</td>\n",
       "      <td>Evan Mobley</td>\n",
       "      <td>NaN</td>\n",
       "    </tr>\n",
       "  </tbody>\n",
       "</table>\n",
       "</div>"
      ],
      "text/plain": [
       "  HEIGHT_WO_SHOES           PLAYER    test\n",
       "0             NaN  Cade Cunningham     NaN\n",
       "1             NaN     Franz Wagner     NaN\n",
       "2             NaN      Jalen Green     NaN\n",
       "3         6'7.0''   Scottie Barnes  197.78\n",
       "4             NaN      Evan Mobley     NaN"
      ]
     },
     "execution_count": 56,
     "metadata": {},
     "output_type": "execute_result"
    }
   ],
   "source": [
    "df2['test'] = df2['HEIGHT_WO_SHOES'].apply(to_cm)\n",
    "df2.head()"
   ]
  },
  {
   "cell_type": "code",
   "execution_count": 7,
   "metadata": {},
   "outputs": [],
   "source": [
    "#All these columns are of type object\n",
    "columns = ['LANE_AGILITY_TIME_x','SHUTTLE_RUN_x','THREE_QUARTER_SPRINT_x', 'STANDING_VERTICAL_LEAP_x',\n",
    "\t'MAX_VERTICAL_LEAP_x','MAX_BENCH_PRESS_x','BODY_FAT','HAND_LENGTH_INCHES','HAND_WIDTH_INCHES',\n",
    "    'HEIGHT_WO_SHOES','HEIGHT_W_SHOES','STANDING_REACH','WEIGHT','WINGSPAN','LANE_AGILITY_TIME_y',\n",
    "    'SHUTTLE_RUN_y','THREE_QUARTER_SPRINT_y','STANDING_VERTICAL_LEAP_y','MAX_VERTICAL_LEAP_y','MAX_BENCH_PRESS_y']\n"
   ]
  },
  {
   "cell_type": "code",
   "execution_count": 20,
   "metadata": {},
   "outputs": [
    {
     "data": {
      "text/html": [
       "<div>\n",
       "<style scoped>\n",
       "    .dataframe tbody tr th:only-of-type {\n",
       "        vertical-align: middle;\n",
       "    }\n",
       "\n",
       "    .dataframe tbody tr th {\n",
       "        vertical-align: top;\n",
       "    }\n",
       "\n",
       "    .dataframe thead th {\n",
       "        text-align: right;\n",
       "    }\n",
       "</style>\n",
       "<table border=\"1\" class=\"dataframe\">\n",
       "  <thead>\n",
       "    <tr style=\"text-align: right;\">\n",
       "      <th></th>\n",
       "      <th>Column1</th>\n",
       "      <th>PLAYER</th>\n",
       "      <th>EFF</th>\n",
       "      <th>FG%</th>\n",
       "      <th>3P%</th>\n",
       "      <th>FT%</th>\n",
       "      <th>MP.1</th>\n",
       "      <th>PTS.1</th>\n",
       "      <th>TRB.1</th>\n",
       "      <th>AST.1</th>\n",
       "      <th>...</th>\n",
       "      <th>HEIGHT_W_SHOES</th>\n",
       "      <th>STANDING_REACH</th>\n",
       "      <th>WEIGHT</th>\n",
       "      <th>WINGSPAN</th>\n",
       "      <th>LANE_AGILITY_TIME_y</th>\n",
       "      <th>SHUTTLE_RUN_y</th>\n",
       "      <th>THREE_QUARTER_SPRINT_y</th>\n",
       "      <th>STANDING_VERTICAL_LEAP_y</th>\n",
       "      <th>MAX_VERTICAL_LEAP_y</th>\n",
       "      <th>MAX_BENCH_PRESS_y</th>\n",
       "    </tr>\n",
       "  </thead>\n",
       "  <tbody>\n",
       "    <tr>\n",
       "      <th>0</th>\n",
       "      <td>0</td>\n",
       "      <td>Cade Cunningham</td>\n",
       "      <td>15.9</td>\n",
       "      <td>0.400</td>\n",
       "      <td>0.320</td>\n",
       "      <td>0.839</td>\n",
       "      <td>31.9</td>\n",
       "      <td>16.2</td>\n",
       "      <td>5.7</td>\n",
       "      <td>5.1</td>\n",
       "      <td>...</td>\n",
       "      <td>NaN</td>\n",
       "      <td>NaN</td>\n",
       "      <td>NaN</td>\n",
       "      <td>NaN</td>\n",
       "      <td>NaN</td>\n",
       "      <td>NaN</td>\n",
       "      <td>NaN</td>\n",
       "      <td>NaN</td>\n",
       "      <td>NaN</td>\n",
       "      <td>NaN</td>\n",
       "    </tr>\n",
       "    <tr>\n",
       "      <th>1</th>\n",
       "      <td>1</td>\n",
       "      <td>Franz Wagner</td>\n",
       "      <td>15.8</td>\n",
       "      <td>0.468</td>\n",
       "      <td>0.366</td>\n",
       "      <td>0.852</td>\n",
       "      <td>31.9</td>\n",
       "      <td>15.7</td>\n",
       "      <td>4.6</td>\n",
       "      <td>2.9</td>\n",
       "      <td>...</td>\n",
       "      <td>NaN</td>\n",
       "      <td>NaN</td>\n",
       "      <td>NaN</td>\n",
       "      <td>NaN</td>\n",
       "      <td>NaN</td>\n",
       "      <td>NaN</td>\n",
       "      <td>NaN</td>\n",
       "      <td>NaN</td>\n",
       "      <td>NaN</td>\n",
       "      <td>NaN</td>\n",
       "    </tr>\n",
       "    <tr>\n",
       "      <th>2</th>\n",
       "      <td>2</td>\n",
       "      <td>Jalen Green</td>\n",
       "      <td>11.1</td>\n",
       "      <td>0.396</td>\n",
       "      <td>0.312</td>\n",
       "      <td>0.811</td>\n",
       "      <td>31.0</td>\n",
       "      <td>15.0</td>\n",
       "      <td>3.1</td>\n",
       "      <td>2.3</td>\n",
       "      <td>...</td>\n",
       "      <td>NaN</td>\n",
       "      <td>NaN</td>\n",
       "      <td>NaN</td>\n",
       "      <td>NaN</td>\n",
       "      <td>NaN</td>\n",
       "      <td>NaN</td>\n",
       "      <td>NaN</td>\n",
       "      <td>NaN</td>\n",
       "      <td>NaN</td>\n",
       "      <td>NaN</td>\n",
       "    </tr>\n",
       "    <tr>\n",
       "      <th>3</th>\n",
       "      <td>3</td>\n",
       "      <td>Scottie Barnes</td>\n",
       "      <td>18.5</td>\n",
       "      <td>0.490</td>\n",
       "      <td>0.314</td>\n",
       "      <td>0.741</td>\n",
       "      <td>35.3</td>\n",
       "      <td>14.9</td>\n",
       "      <td>7.6</td>\n",
       "      <td>3.2</td>\n",
       "      <td>...</td>\n",
       "      <td>NaN</td>\n",
       "      <td>NaN</td>\n",
       "      <td>225.4</td>\n",
       "      <td>NaN</td>\n",
       "      <td>10.88</td>\n",
       "      <td>2.99</td>\n",
       "      <td>3.15</td>\n",
       "      <td>36.0</td>\n",
       "      <td>39.5</td>\n",
       "      <td>NaN</td>\n",
       "    </tr>\n",
       "    <tr>\n",
       "      <th>4</th>\n",
       "      <td>4</td>\n",
       "      <td>Evan Mobley</td>\n",
       "      <td>18.5</td>\n",
       "      <td>0.499</td>\n",
       "      <td>0.257</td>\n",
       "      <td>0.680</td>\n",
       "      <td>34.1</td>\n",
       "      <td>14.7</td>\n",
       "      <td>8.1</td>\n",
       "      <td>2.6</td>\n",
       "      <td>...</td>\n",
       "      <td>NaN</td>\n",
       "      <td>NaN</td>\n",
       "      <td>NaN</td>\n",
       "      <td>NaN</td>\n",
       "      <td>NaN</td>\n",
       "      <td>NaN</td>\n",
       "      <td>NaN</td>\n",
       "      <td>NaN</td>\n",
       "      <td>NaN</td>\n",
       "      <td>NaN</td>\n",
       "    </tr>\n",
       "  </tbody>\n",
       "</table>\n",
       "<p>5 rows × 35 columns</p>\n",
       "</div>"
      ],
      "text/plain": [
       "   Column1           PLAYER   EFF    FG%    3P%    FT%  MP.1  PTS.1  TRB.1  \\\n",
       "0        0  Cade Cunningham  15.9  0.400  0.320  0.839  31.9   16.2    5.7   \n",
       "1        1     Franz Wagner  15.8  0.468  0.366  0.852  31.9   15.7    4.6   \n",
       "2        2      Jalen Green  11.1  0.396  0.312  0.811  31.0   15.0    3.1   \n",
       "3        3   Scottie Barnes  18.5  0.490  0.314  0.741  35.3   14.9    7.6   \n",
       "4        4      Evan Mobley  18.5  0.499  0.257  0.680  34.1   14.7    8.1   \n",
       "\n",
       "   AST.1  ...  HEIGHT_W_SHOES  STANDING_REACH  WEIGHT  WINGSPAN  \\\n",
       "0    5.1  ...             NaN             NaN     NaN       NaN   \n",
       "1    2.9  ...             NaN             NaN     NaN       NaN   \n",
       "2    2.3  ...             NaN             NaN     NaN       NaN   \n",
       "3    3.2  ...             NaN             NaN   225.4       NaN   \n",
       "4    2.6  ...             NaN             NaN     NaN       NaN   \n",
       "\n",
       "   LANE_AGILITY_TIME_y  SHUTTLE_RUN_y  THREE_QUARTER_SPRINT_y  \\\n",
       "0                  NaN            NaN                     NaN   \n",
       "1                  NaN            NaN                     NaN   \n",
       "2                  NaN            NaN                     NaN   \n",
       "3                10.88           2.99                    3.15   \n",
       "4                  NaN            NaN                     NaN   \n",
       "\n",
       "   STANDING_VERTICAL_LEAP_y  MAX_VERTICAL_LEAP_y  MAX_BENCH_PRESS_y  \n",
       "0                       NaN                  NaN                NaN  \n",
       "1                       NaN                  NaN                NaN  \n",
       "2                       NaN                  NaN                NaN  \n",
       "3                      36.0                 39.5                NaN  \n",
       "4                       NaN                  NaN                NaN  \n",
       "\n",
       "[5 rows x 35 columns]"
      ]
     },
     "execution_count": 20,
     "metadata": {},
     "output_type": "execute_result"
    }
   ],
   "source": [
    "df[\"BODY_FAT\"] = [str(x).replace('-%', '') for x in df['BODY_FAT']]\n",
    "df[\"BODY_FAT\"]= pd.to_numeric(df[\"BODY_FAT\"],errors='coerce')\n",
    "# type(df[\"BODY_FAT\"][2])\n",
    "for column in columns:\n",
    "    df[column] = [str(x).replace('-', '') for x in df[column]]\n",
    "    df[column]= pd.to_numeric(df[column],errors='coerce')\n",
    "\n",
    "df.head()\n",
    "#Nice it works"
   ]
  },
  {
   "cell_type": "code",
   "execution_count": 27,
   "metadata": {},
   "outputs": [
    {
     "data": {
      "text/plain": [
       "754"
      ]
     },
     "execution_count": 27,
     "metadata": {},
     "output_type": "execute_result"
    }
   ],
   "source": [
    "#Number of rows that are missing a value\n",
    "df.shape[0] - df.dropna().shape[0]"
   ]
  },
  {
   "cell_type": "markdown",
   "metadata": {},
   "source": [
    "Bad news, every single row is missing at least one value."
   ]
  },
  {
   "cell_type": "markdown",
   "metadata": {},
   "source": [
    "# Linear Regression"
   ]
  },
  {
   "cell_type": "code",
   "execution_count": 4,
   "metadata": {},
   "outputs": [],
   "source": [
    "# Import for Linear Regression\n",
    "import sklearn\n",
    "from sklearn.linear_model import LinearRegression\n",
    "df = pd.read_csv('data_all.csv')"
   ]
  },
  {
   "cell_type": "code",
   "execution_count": 5,
   "metadata": {},
   "outputs": [],
   "source": [
    "# Create a LinearRegression Object\n",
    "lreg = LinearRegression()"
   ]
  },
  {
   "cell_type": "code",
   "execution_count": 8,
   "metadata": {},
   "outputs": [],
   "source": [
    "# Data Columns\n",
    "X_multi = df.drop(['PLAYER','EFF','Year'],1)\n",
    "\n",
    "# Targets\n",
    "Y_target = df['EFF']"
   ]
  },
  {
   "cell_type": "code",
   "execution_count": null,
   "metadata": {},
   "outputs": [],
   "source": [
    "# Implement Linear Regression\n",
    "lreg.fit(X_multi,Y_target)"
   ]
  },
  {
   "cell_type": "code",
   "execution_count": null,
   "metadata": {},
   "outputs": [],
   "source": [
    "# Set a DataFrame from the Features\n",
    "coeff_df = pd.DataFrame(df.columns)\n",
    "coeff_df.columns = ['Features']\n",
    "\n",
    "# Set a new column lining up the coefficients from the linear regression\n",
    "coeff_df['Coefficient Estimate'] = pd.Series(lreg.coef_)\n",
    "\n",
    "# Show\n",
    "coeff_df"
   ]
  },
  {
   "cell_type": "code",
   "execution_count": null,
   "metadata": {},
   "outputs": [],
   "source": [
    "#Cross validation to reduce overfitting\n",
    "from sklearn.model_selection import cross_val_score\n",
    "scores = cross_val_score(lreg,X_multi,df['EFF'],cv=10,scoring='explained_variance')\n",
    "scores"
   ]
  },
  {
   "cell_type": "code",
   "execution_count": null,
   "metadata": {},
   "outputs": [],
   "source": [
    "#Training and validation\n",
    "\n",
    "# Grab the output and set as X and Y test and train data sets!\n",
    "from sklearn.model_selection import train_test_split\n",
    "X_train, X_test, Y_train, Y_test = train_test_split(X_multi,Y_target,test_size = 0.2)\n",
    "print(X_train.shape, X_test.shape, Y_train.shape, Y_test.shape)\n",
    "\n",
    "# Create our regression object\n",
    "lreg = LinearRegression()\n",
    "\n",
    "# Once again do a linear regression, except only on the training sets this time\n",
    "lreg.fit(X_train,Y_train)"
   ]
  },
  {
   "cell_type": "code",
   "execution_count": null,
   "metadata": {},
   "outputs": [],
   "source": [
    "# Predictions on training and testing sets\n",
    "pred_train = lreg.predict(X_train)\n",
    "pred_test = lreg.predict(X_test)"
   ]
  },
  {
   "cell_type": "code",
   "execution_count": null,
   "metadata": {},
   "outputs": [],
   "source": [
    "print(\"Fit a model X_train, and calculate MSE with Y_train: %.2f\"  %np.mean((Y_train - pred_train) **2) )\n",
    "    \n",
    "print(\"Fit a model X_train, and calculate MSE with X_test and Y_test: %.2f\"  %np.mean((Y_test - pred_test) **2) )"
   ]
  }
 ],
 "metadata": {
  "interpreter": {
   "hash": "2f0d2c05af49f843ad96060645dc89a3aba8b682c781f5b3f4dc0003edad14b1"
  },
  "kernelspec": {
   "display_name": "Python 3.9.5 64-bit",
   "language": "python",
   "name": "python3"
  },
  "language_info": {
   "codemirror_mode": {
    "name": "ipython",
    "version": 3
   },
   "file_extension": ".py",
   "mimetype": "text/x-python",
   "name": "python",
   "nbconvert_exporter": "python",
   "pygments_lexer": "ipython3",
   "version": "3.9.5"
  },
  "orig_nbformat": 4
 },
 "nbformat": 4,
 "nbformat_minor": 2
}
